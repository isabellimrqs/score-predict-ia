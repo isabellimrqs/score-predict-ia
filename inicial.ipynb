{
 "cells": [
  {
   "cell_type": "markdown",
   "metadata": {},
   "source": [
    "# Projeto Python IA: Inteligência Artificial e Previsões\n",
    "\n",
    "### Case: Score de Crédito dos Clientes\n",
    "\n",
    "Você foi contratado por um banco para conseguir definir o score de crédito dos clientes. Você precisa analisar todos os clientes do banco e, com base nessa análise, criar um modelo que consiga ler as informações do cliente e dizer automaticamente o score de crédito dele: Ruim, Ok, Bom\n"
   ]
  },
  {
   "cell_type": "code",
   "execution_count": null,
   "metadata": {},
   "outputs": [],
   "source": [
    "import pandas as pd\n",
    "\n",
    "tabela = pd.read_csv(\"clientes.csv\") \n",
    "\n",
    "display(tabela)\n",
    "display(tabela.info())"
   ]
  },
  {
   "cell_type": "code",
   "execution_count": null,
   "metadata": {},
   "outputs": [],
   "source": [
    "from sklearn.preprocessing import LabelEncoder\n",
    "\n",
    "codificador = LabelEncoder()\n",
    "\n",
    "tabela[\"profissao\"] = codificador.fit_transform(tabela[\"profissao\"])\n",
    "\n",
    "tabela[\"mix_credito\"] = codificador.fit_transform(tabela[\"mix_credito\"])\n",
    "\n",
    "tabela[\"comportamento_pagamento\"] = codificador.fit_transform(tabela[\"comportamento_pagamento\"])\n",
    "\n",
    "display(tabela.info())\n"
   ]
  },
  {
   "cell_type": "code",
   "execution_count": null,
   "metadata": {},
   "outputs": [],
   "source": [
    "y = tabela[\"score_credito\"]\n",
    "x = tabela.drop(columns=[\"score_credito\", \"id_cliente\"])\n",
    "\n",
    "from sklearn.model_selection import train_test_split\n",
    "\n",
    "X_treino, x_teste, y_treino, y_teste = train_test_split(x,y, test_size=0.3)\n"
   ]
  },
  {
   "cell_type": "code",
   "execution_count": null,
   "metadata": {},
   "outputs": [],
   "source": [
    "from sklearn.ensemble import RandomForestClassifier\n",
    "from sklearn.neighbors import KNeighborsClassifier\n",
    "\n",
    "modelo_arvore = RandomForestClassifier()\n",
    "modelo_knn = KNeighborsClassifier()\n",
    "\n",
    "modelo_arvore.fit(X_treino, y_treino)\n",
    "modelo_knn.fit(X_treino, y_treino)\n"
   ]
  },
  {
   "cell_type": "code",
   "execution_count": 1,
   "metadata": {},
   "outputs": [
    {
     "ename": "NameError",
     "evalue": "name 'modelo_arvore' is not defined",
     "output_type": "error",
     "traceback": [
      "\u001b[1;31m---------------------------------------------------------------------------\u001b[0m",
      "\u001b[1;31mNameError\u001b[0m                                 Traceback (most recent call last)",
      "Cell \u001b[1;32mIn[1], line 1\u001b[0m\n\u001b[1;32m----> 1\u001b[0m previsao_arvore \u001b[38;5;241m=\u001b[39m \u001b[43mmodelo_arvore\u001b[49m\u001b[38;5;241m.\u001b[39mpredict(x_teste)\n\u001b[0;32m      2\u001b[0m previsao_knn \u001b[38;5;241m=\u001b[39m modelo_knn\u001b[38;5;241m.\u001b[39mpredict(x_teste)\n\u001b[0;32m      4\u001b[0m \u001b[38;5;28;01mfrom\u001b[39;00m \u001b[38;5;21;01msklearn\u001b[39;00m\u001b[38;5;21;01m.\u001b[39;00m\u001b[38;5;21;01mmetrics\u001b[39;00m \u001b[38;5;28;01mimport\u001b[39;00m accuracy_score\n",
      "\u001b[1;31mNameError\u001b[0m: name 'modelo_arvore' is not defined"
     ]
    }
   ],
   "source": [
    "previsao_arvore = modelo_arvore.predict(x_teste)\n",
    "previsao_knn = modelo_knn.predict(x_teste)\n",
    "\n",
    "from sklearn.metrics import accuracy_score\n",
    "\n",
    "display(accuracy_score(y_teste, previsao_arvore))\n",
    "display(accuracy_score(y_teste, previsao_knn))"
   ]
  },
  {
   "cell_type": "code",
   "execution_count": null,
   "metadata": {},
   "outputs": [],
   "source": [
    "tabela_nova = pd.read_csv(\"novos_clientes.csv\")\n",
    "display(tabela_nova)"
   ]
  }
 ],
 "metadata": {
  "kernelspec": {
   "display_name": "Python 3",
   "language": "python",
   "name": "python3"
  },
  "language_info": {
   "codemirror_mode": {
    "name": "ipython",
    "version": 3
   },
   "file_extension": ".py",
   "mimetype": "text/x-python",
   "name": "python",
   "nbconvert_exporter": "python",
   "pygments_lexer": "ipython3",
   "version": "3.12.1"
  },
  "orig_nbformat": 4
 },
 "nbformat": 4,
 "nbformat_minor": 2
}
